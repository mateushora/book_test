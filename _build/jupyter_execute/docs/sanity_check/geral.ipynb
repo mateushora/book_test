{
 "cells": [
  {
   "cell_type": "markdown",
   "metadata": {},
   "source": [
    "(geral)= \n",
    "\n",
    "# General Sanity\n",
    "## Relatório geral\n",
    "\n",
    "<pre>\n",
    "+------------------------+----------+\n",
    "|                        |   Values |\n",
    "+========================+==========+\n",
    "| Number of variables    |        6 |\n",
    "+------------------------+----------+\n",
    "| Number of observations |       51 |\n",
    "+------------------------+----------+\n",
    "| Number duplicated      |        0 |\n",
    "+------------------------+----------+\n",
    "| Number disregard       |        0 |\n",
    "+------------------------+----------+\n",
    "| numeric                |        5 |\n",
    "+------------------------+----------+\n",
    "| date                   |        1 |\n",
    "+------------------------+----------+\n",
    "</pre>"
   ]
  }
 ],
 "metadata": {
  "jupytext": {
   "text_representation": {
    "extension": ".md",
    "format_name": "myst"
   }
  },
  "kernelspec": {
   "display_name": "Python 3",
   "language": "python",
   "name": "python3"
  },
  "language_info": {
   "codemirror_mode": {
    "name": "ipython",
    "version": 3
   },
   "file_extension": ".py",
   "mimetype": "text/x-python",
   "name": "python",
   "nbconvert_exporter": "python",
   "pygments_lexer": "ipython3",
   "version": "3.8.5"
  },
  "source_map": [
   10
  ]
 },
 "nbformat": 4,
 "nbformat_minor": 4
}