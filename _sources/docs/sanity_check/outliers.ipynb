{
 "cells": [
  {
   "cell_type": "markdown",
   "metadata": {},
   "source": [
    "(outliers)= \n",
    "\n",
    "# Outliers\n",
    "## Relatório geral\n",
    "\n",
    "<pre>\n",
    "+-----------------------------+----------------+------------+\n",
    "|                             | Nome Feature   |   Outliers |\n",
    "+=============================+================+============+\n",
    "| HOPS_fdp_mov_avg_9          | hops_9         |          4 |\n",
    "+-----------------------------+----------------+------------+\n",
    "| TRANSPORT_spend_usd         | transporte     |          1 |\n",
    "+-----------------------------+----------------+------------+\n",
    "| HOPS_fdp_mov_avg_12         | hops_12        |          1 |\n",
    "+-----------------------------+----------------+------------+\n",
    "| HOPS_fdp_mov_avg_13         | hops_13        |          1 |\n",
    "+-----------------------------+----------------+------------+\n",
    "| LOGISTICS SUPPORT_spend_usd | suporte        |          0 |\n",
    "+-----------------------------+----------------+------------+\n",
    "</pre>"
   ]
  }
 ],
 "metadata": {
  "jupytext": {
   "text_representation": {
    "extension": ".md",
    "format_name": "myst"
   }
  },
  "kernelspec": {
   "display_name": "Python 3",
   "language": "python",
   "name": "python3"
  },
  "language_info": {
   "codemirror_mode": {
    "name": "ipython",
    "version": 3
   },
   "file_extension": ".py",
   "mimetype": "text/x-python",
   "name": "python",
   "nbconvert_exporter": "python",
   "pygments_lexer": "ipython3",
   "version": "3.8.5"
  },
  "source_map": [
   10
  ]
 },
 "nbformat": 4,
 "nbformat_minor": 4
}