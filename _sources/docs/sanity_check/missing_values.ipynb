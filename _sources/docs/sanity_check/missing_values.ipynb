{
 "cells": [
  {
   "cell_type": "markdown",
   "metadata": {},
   "source": [
    "(missing_values)= \n",
    "\n",
    "# Missing Values\n",
    "## Relatório geral\n",
    "\n",
    "<pre>\n",
    "+----+----------------+-----------------------+-----------------------------+\n",
    "|    | Nome Feature   |   Qtde Missing Values |   Proportion Missing Values |\n",
    "+====+================+=======================+=============================+\n",
    "|  3 | hops_9         |                     1 |                        1.96 |\n",
    "+----+----------------+-----------------------+-----------------------------+\n",
    "|  4 | hops_12        |                     1 |                        1.96 |\n",
    "+----+----------------+-----------------------+-----------------------------+\n",
    "|  5 | hops_13        |                     1 |                        1.96 |\n",
    "+----+----------------+-----------------------+-----------------------------+\n",
    "|  0 | date           |                     0 |                        0    |\n",
    "+----+----------------+-----------------------+-----------------------------+\n",
    "|  1 | suporte        |                     0 |                        0    |\n",
    "+----+----------------+-----------------------+-----------------------------+\n",
    "|  2 | transporte     |                     0 |                        0    |\n",
    "+----+----------------+-----------------------+-----------------------------+\n",
    "</pre>\n",
    "\n",
    "\n",
    "\n",
    "\n",
    "```{figure} ../../../assets/img/missing_values/matrix_missing.png\n",
    ":name: matrix_missing_img\n",
    "```"
   ]
  }
 ],
 "metadata": {
  "jupytext": {
   "text_representation": {
    "extension": ".md",
    "format_name": "myst"
   }
  },
  "kernelspec": {
   "display_name": "Python 3",
   "language": "python",
   "name": "python3"
  },
  "language_info": {
   "codemirror_mode": {
    "name": "ipython",
    "version": 3
   },
   "file_extension": ".py",
   "mimetype": "text/x-python",
   "name": "python",
   "nbconvert_exporter": "python",
   "pygments_lexer": "ipython3",
   "version": "3.8.5"
  },
  "source_map": [
   10
  ]
 },
 "nbformat": 4,
 "nbformat_minor": 4
}